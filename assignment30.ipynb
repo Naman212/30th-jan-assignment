{
 "cells": [
  {
   "cell_type": "markdown",
   "id": "00af90c2-8c58-4b77-af40-44f05cb0bfe2",
   "metadata": {},
   "source": [
    "QUE 1"
   ]
  },
  {
   "cell_type": "code",
   "execution_count": 15,
   "id": "cfc521c6-fd7f-445e-995e-df0f804ba140",
   "metadata": {},
   "outputs": [
    {
     "name": "stdin",
     "output_type": "stream",
     "text": [
      "enter your marks: 88\n"
     ]
    },
    {
     "name": "stdout",
     "output_type": "stream",
     "text": [
      "B grade\n"
     ]
    }
   ],
   "source": [
    "marks = int(input(\"enter your marks:\"))\n",
    "if marks >90 :\n",
    "    print(\"A grade\")\n",
    "elif marks  >80 and marks <=90 :\n",
    "    print(\"B grade\")\n",
    "elif marks >=60 and marks <=80 :\n",
    "    print(\"C grade\")\n",
    "elif marks < 60 :\n",
    "    print(\"D grade\")"
   ]
  },
  {
   "cell_type": "markdown",
   "id": "eaa2e85a-eb09-48ae-9640-e8acbb075794",
   "metadata": {},
   "source": [
    "QUE 2 "
   ]
  },
  {
   "cell_type": "code",
   "execution_count": 14,
   "id": "c3c0b534-7595-465f-afcb-015378448e9a",
   "metadata": {},
   "outputs": [
    {
     "name": "stdin",
     "output_type": "stream",
     "text": [
      "Enter the cost price of the bike in rupees:  90000\n"
     ]
    },
    {
     "name": "stdout",
     "output_type": "stream",
     "text": [
      "The road tax to be paid is:  9000.0  rupees\n"
     ]
    }
   ],
   "source": [
    "cost_price = int(input(\"Enter the cost price of the bike in rupees: \"))\n",
    "\n",
    "if cost_price > 100000:\n",
    "    tax = 0.15 * cost_price\n",
    "elif cost_price > 50000:\n",
    "    tax = 0.1 * cost_price\n",
    "else:\n",
    "    tax = 0.05 * cost_price\n",
    "\n",
    "print(\"The road tax to be paid is: \", tax, \" rupees\")"
   ]
  },
  {
   "cell_type": "markdown",
   "id": "1bde346f-4db0-40db-9d30-e3966d51f303",
   "metadata": {},
   "source": [
    "QUE 3"
   ]
  },
  {
   "cell_type": "code",
   "execution_count": 21,
   "id": "004e1e68-8536-4d91-a2bb-33c4f5e7874f",
   "metadata": {},
   "outputs": [
    {
     "name": "stdin",
     "output_type": "stream",
     "text": [
      "enter the name of city Rohtak\n"
     ]
    },
    {
     "name": "stdout",
     "output_type": "stream",
     "text": [
      "sorry, we dont have information about the monuments in that city.\n"
     ]
    }
   ],
   "source": [
    "city = input(\"enter the name of city\"\n",
    "        )\n",
    "if city.lower() == \"delhi\":\n",
    "    print(\"monuments in Delhi: Red Fort\")\n",
    "elif city.lower() == \"agra\":\n",
    "    print(\"monuments in Agra: Taj Mahal\")\n",
    "elif city.lower() == \"jaipur\":\n",
    "    print(\"monuments in jaipur: Jal Mahal\")\n",
    "else:\n",
    "    print(\"sorry, we dont have information about the monuments in that city.\")\n",
    "    "
   ]
  },
  {
   "cell_type": "markdown",
   "id": "437fec13-6ce1-4e90-84fe-804304dc4e78",
   "metadata": {},
   "source": [
    "QUE 4"
   ]
  },
  {
   "cell_type": "code",
   "execution_count": 4,
   "id": "0480923c-f1a3-4936-a068-b2506021eaff",
   "metadata": {},
   "outputs": [
    {
     "name": "stdin",
     "output_type": "stream",
     "text": [
      "enter a number 21\n"
     ]
    },
    {
     "name": "stdout",
     "output_type": "stream",
     "text": [
      "the number can be divided by 3 1 times before it is less than or equal to 10.\n"
     ]
    }
   ],
   "source": [
    "num = int(input(\"enter a number\"))\n",
    "count = 0\n",
    "while num > 10:\n",
    "    num /=3\n",
    "    count += 1\n",
    "print(\"the number can be divided by 3\", count, \"times before it is less than or equal to 10.\")    \n",
    "    "
   ]
  },
  {
   "cell_type": "markdown",
   "id": "964be697-8a06-423e-9c1b-e370d513db84",
   "metadata": {},
   "source": [
    "QUE 5"
   ]
  },
  {
   "cell_type": "markdown",
   "id": "fba2ad05-1044-4798-b94d-2d8ce0718806",
   "metadata": {},
   "source": [
    "A while loop in Python is used to repeatedly execute a block of code as long as a certain condition is true. \n",
    "This is useful when you want to keep running a piece of code until a certain condition is met, such as processing\n",
    "data until the end of a file is reached, or repeatedly asking for user input until a valid input is received.\n",
    "\n",
    "Here's an example of a simple while loop that prints out the numbers from 1 to 5:\n",
    "i = 1\n",
    "while i <= 5:\n",
    "    print(i)\n",
    "    i += 1\n",
    "    \n",
    "here are some situations where a while loop may be useful in Python:\n",
    "\n",
    "Reading data from a file or a database: You can use a while loop to keep reading data until the end of the file or database is reached.\n",
    "\n",
    "User input validation: You can use a while loop to keep asking the user for input until a valid input is received.\n",
    "\n",
    "Data processing: You can use a while loop to repeatedly process data until a certain condition is met, such as when a certain amount of data has been processed.\n",
    "\n",
    "Game loops: You can use a while loop to continuously run the game logic until the game is over or the player quits.    \n",
    "    "
   ]
  },
  {
   "cell_type": "markdown",
   "id": "f1baacc5-c208-4803-a577-568f1d16fa6d",
   "metadata": {},
   "source": [
    "QUE 6"
   ]
  },
  {
   "cell_type": "markdown",
   "id": "56d7032e-ff1a-413d-bfc6-24c007b6d634",
   "metadata": {},
   "source": [
    "Pattern 1: Square pattern of stars\n",
    "i = 1\n",
    "while i <= 5:\n",
    "    j = 1\n",
    "    while j <= 5:\n",
    "        print(\"*\", end=\"\")\n",
    "        j += 1\n",
    "    print()\n",
    "    i += 1\n",
    "    \n",
    "    \n",
    "Pattern 2: Right-angled triangle of numbers\n",
    "\n",
    "i = 1\n",
    "while i <= 5:\n",
    "    j = 1\n",
    "    while j <= i:\n",
    "        print(j, end=\"\")\n",
    "        j += 1\n",
    "    print()\n",
    "    i += 1\n",
    "    \n",
    "\n",
    "Pattern 3: Diamond pattern of stars\n",
    "\n",
    "i = 1\n",
    "while i <= 5:\n",
    "    j = 1\n",
    "    while j <= 5-i:\n",
    "        print(\" \", end=\"\")\n",
    "        j += 1\n",
    "    j = 1\n",
    "    while j <= 2*i-1:\n",
    "        print(\"*\", end=\"\")\n",
    "        j += 1\n",
    "    print()\n",
    "    i += 1\n",
    "    \n",
    "i = 4\n",
    "while i >= 1:\n",
    "    j = 1\n",
    "    while j <= 5-i:\n",
    "        print(\" \", end=\"\")\n",
    "        j += 1\n",
    "    j = 1\n",
    "    while j <= 2*i-1:\n",
    "        print(\"*\", end=\"\")\n",
    "        j += 1\n",
    "    print()\n",
    "    i -= 1\n",
    "  "
   ]
  },
  {
   "cell_type": "markdown",
   "id": "886aa139-6ab4-4b8a-80f1-d5da37cfb517",
   "metadata": {},
   "source": [
    "QUE 7"
   ]
  },
  {
   "cell_type": "code",
   "execution_count": 6,
   "id": "5104a553-f0a7-4db5-b1a2-ab78539c5bd8",
   "metadata": {},
   "outputs": [
    {
     "name": "stdout",
     "output_type": "stream",
     "text": [
      "10\n",
      "9\n",
      "8\n",
      "7\n",
      "6\n",
      "5\n",
      "4\n",
      "3\n",
      "2\n",
      "1\n"
     ]
    }
   ],
   "source": [
    "i = 10\n",
    "while i >= 1:\n",
    "    print(i)\n",
    "    i -= 1"
   ]
  },
  {
   "cell_type": "markdown",
   "id": "5843d642-94c7-4c5e-b18f-50a7c4087e7d",
   "metadata": {},
   "source": [
    "QUE 8"
   ]
  },
  {
   "cell_type": "code",
   "execution_count": 7,
   "id": "22d7e77b-f007-48e0-ad12-8e95e9368031",
   "metadata": {},
   "outputs": [
    {
     "name": "stdout",
     "output_type": "stream",
     "text": [
      "10\n",
      "9\n",
      "8\n",
      "7\n",
      "6\n",
      "5\n",
      "4\n",
      "3\n",
      "2\n",
      "1\n"
     ]
    }
   ],
   "source": [
    "i = 1\n",
    "while i <= 10:\n",
    "    print(11 - i)\n",
    "    i += 1"
   ]
  },
  {
   "cell_type": "code",
   "execution_count": null,
   "id": "b028ecaf-0719-428e-a81a-f6c4571757e9",
   "metadata": {},
   "outputs": [],
   "source": []
  }
 ],
 "metadata": {
  "kernelspec": {
   "display_name": "Python 3 (ipykernel)",
   "language": "python",
   "name": "python3"
  },
  "language_info": {
   "codemirror_mode": {
    "name": "ipython",
    "version": 3
   },
   "file_extension": ".py",
   "mimetype": "text/x-python",
   "name": "python",
   "nbconvert_exporter": "python",
   "pygments_lexer": "ipython3",
   "version": "3.10.8"
  }
 },
 "nbformat": 4,
 "nbformat_minor": 5
}
